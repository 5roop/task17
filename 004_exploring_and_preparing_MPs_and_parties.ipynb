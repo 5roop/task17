{
 "cells": [
  {
   "cell_type": "code",
   "execution_count": 64,
   "metadata": {},
   "outputs": [],
   "source": [
    "import pandas as pd\n",
    "from pathlib import Path\n",
    "from typing import List, Union\n",
    "\n",
    "pd.set_option('display.max_colwidth', None)\n",
    "pd.set_option('display.max_columns', None)\n",
    "pd.set_option('display.max_rows', None)\n",
    "\n",
    "directory = \"../BiH\"\n",
    "mpdf = pd.read_excel(\"/home/rupnik/parlamint/BiH/BiH_MPs_1998-2022_v1.xlsx\")\n",
    "partiesdf = pd.read_excel(\"/home/rupnik/parlamint/BiH/BiH_electoral_lists_1998-2022_v1.xlsx\")\n",
    "\n",
    "mpdf[\"party\"] = mpdf.party.str.rstrip().str.lstrip()\n",
    "partiesdf[\"party\"] = partiesdf.party.str.rstrip().str.lstrip()\n",
    "partiesdf[\"full_name\"] = partiesdf.full_name.str.rstrip().str.lstrip()"
   ]
  },
  {
   "cell_type": "markdown",
   "metadata": {},
   "source": [
    "## Check and impute missing values:"
   ]
  },
  {
   "cell_type": "code",
   "execution_count": 65,
   "metadata": {},
   "outputs": [
    {
     "data": {
      "text/html": [
       "<div>\n",
       "<style scoped>\n",
       "    .dataframe tbody tr th:only-of-type {\n",
       "        vertical-align: middle;\n",
       "    }\n",
       "\n",
       "    .dataframe tbody tr th {\n",
       "        vertical-align: top;\n",
       "    }\n",
       "\n",
       "    .dataframe thead th {\n",
       "        text-align: right;\n",
       "    }\n",
       "</style>\n",
       "<table border=\"1\" class=\"dataframe\">\n",
       "  <thead>\n",
       "    <tr style=\"text-align: right;\">\n",
       "      <th></th>\n",
       "      <th>codeparty</th>\n",
       "      <th>term1</th>\n",
       "      <th>term2</th>\n",
       "      <th>party</th>\n",
       "      <th>full_name</th>\n",
       "      <th>entity</th>\n",
       "      <th>ethnic_affiliation</th>\n",
       "      <th>ideology_lr</th>\n",
       "      <th>party_family</th>\n",
       "      <th>election_result</th>\n",
       "      <th>no_seats</th>\n",
       "      <th>coalition</th>\n",
       "      <th>coalition_composition</th>\n",
       "      <th>ruling</th>\n",
       "    </tr>\n",
       "  </thead>\n",
       "  <tbody>\n",
       "  </tbody>\n",
       "</table>\n",
       "</div>"
      ],
      "text/plain": [
       "Empty DataFrame\n",
       "Columns: [codeparty, term1, term2, party, full_name, entity, ethnic_affiliation, ideology_lr, party_family, election_result, no_seats, coalition, coalition_composition, ruling]\n",
       "Index: []"
      ]
     },
     "execution_count": 65,
     "metadata": {},
     "output_type": "execute_result"
    }
   ],
   "source": [
    "partiesnas = partiesdf.isna().any(axis=\"columns\")\n",
    "# No Nans in parties.\n",
    "\n",
    "partiesdf[partiesnas]"
   ]
  },
  {
   "cell_type": "code",
   "execution_count": null,
   "metadata": {},
   "outputs": [],
   "source": [
    "mpnas = mpdf.isna().any(axis=\"columns\")\n",
    "\n",
    "mpdf[mpnas]"
   ]
  },
  {
   "cell_type": "code",
   "execution_count": 114,
   "metadata": {},
   "outputs": [],
   "source": [
    "\n"
   ]
  },
  {
   "cell_type": "code",
   "execution_count": 107,
   "metadata": {},
   "outputs": [],
   "source": [
    "from utils import parse_meta_file\n",
    "files = [ str(i.absolute()) for i in Path(\"../BiH\").glob(\"*_meta.tsv\")]\n",
    "\n",
    "parties_in_meta = set()\n",
    "fullnames = set()\n",
    "for i in files:\n",
    "    parties_in_meta = parties_in_meta.union(set(parse_meta_file(i).Speaker_party))\n",
    "    fullnames = fullnames.union(set(parse_meta_file(i).Speaker_party_name))\n"
   ]
  },
  {
   "cell_type": "code",
   "execution_count": 108,
   "metadata": {},
   "outputs": [],
   "source": [
    "parties_in_meta = {i.rstrip().lstrip() if not pd.isna(i) else \"none\" for i in parties_in_meta}"
   ]
  },
  {
   "cell_type": "code",
   "execution_count": 155,
   "metadata": {},
   "outputs": [
    {
     "name": "stdout",
     "output_type": "stream",
     "text": [
      "In metadata - m {'Samostalni poslanik', 'KCM BiH', 'NS Radom za boljitak', 'HDZ 1990 - HSPBiH', 'none', 'DF – GS'}\n",
      "In metadata - p {'Samostalni poslanik', 'KCM BiH', 'GDS', 'NS Radom za boljitak', 'HSS', 'HDZ 1990 - HSPBiH', 'none', 'DF – GS'}\n"
     ]
    }
   ],
   "source": [
    "p = set(partiesdf.party)\n",
    "m = set(mpdf.party)\n",
    "\n",
    "print(\"In metadata - m\", parties_in_meta-m)\n",
    "print(\"In metadata - p\", parties_in_meta-p)"
   ]
  },
  {
   "cell_type": "code",
   "execution_count": 157,
   "metadata": {},
   "outputs": [
    {
     "name": "stdout",
     "output_type": "stream",
     "text": [
      "Parties in parties table:  {'Koalicija', 'DNS', 'HK', 'NS', 'SDS', 'PDP', 'NHI', 'NB', 'Sloga', 'DF', 'EB', 'BPS', 'DSP BiH', 'SBB', 'SPRS', 'PDA', 'KCD BiH', 'K-SNSD', 'NS RB', 'BOSS', 'PDP-NDP', 'RSRS', 'HZ', 'HDZ-HK-HNZ', 'SNSD', 'HDZ 1990', 'HDZ BiH', 'SPUBiH', 'SRSRS', 'NHI-HKDU', 'DNZ BiH', 'A-SDA', 'SNS', 'SDP BiH', 'SDUBiH', 'SBiH', 'SD BiH', 'SP', 'SDA'} \n",
      "\n",
      "\n"
     ]
    }
   ],
   "source": [
    "# print(\"Parties in metadata: \", parties_in_meta, \"\\n\\n\")\n",
    "# print(\"Parties in MP table: \", m, \"\\n\\n\")\n",
    "print(\"Parties in parties table: \", p, \"\\n\\n\")"
   ]
  },
  {
   "cell_type": "code",
   "execution_count": 158,
   "metadata": {},
   "outputs": [
    {
     "name": "stdout",
     "output_type": "stream",
     "text": [
      "Parties in MP table:  {nan, 'Koalicija', 'DNS', 'NS', 'SDS', 'GDS', 'PDP', 'NHI', 'NB', 'Sloga', 'DF', 'EB', 'BPS', 'SBB', 'HSS', 'SPRS', 'DSP BiH', 'PDA', 'KCD BiH', 'K-SNSD', 'NS RB', 'BSP', 'BOSS', 'PDP-NDP', 'RSRS', 'HDZ-HK-HNZ', 'SNSD', 'HDZ 1990', 'HDZ BiH', 'SPUBiH', 'SRSRS', 'NHI-HKDU', 'DNZ BiH', 'A-SDA', 'SNS', 'SDP BiH', 'SDUBiH', 'SBiH', 'SD BiH', 'SP', 'SDA'} \n",
      "\n",
      "\n"
     ]
    }
   ],
   "source": [
    "print(\"Parties in MP table: \", m, \"\\n\\n\")"
   ]
  },
  {
   "cell_type": "code",
   "execution_count": 159,
   "metadata": {},
   "outputs": [
    {
     "name": "stdout",
     "output_type": "stream",
     "text": [
      "MP - Partiesdf:  {nan, 'BSP', 'GDS', 'HSS'}\n"
     ]
    }
   ],
   "source": [
    "print(\"MP - Partiesdf: \", m-p)"
   ]
  },
  {
   "cell_type": "code",
   "execution_count": 154,
   "metadata": {},
   "outputs": [
    {
     "name": "stderr",
     "output_type": "stream",
     "text": [
      "/tmp/ipykernel_1010360/3506906567.py:28: FutureWarning: The pandas.np module is deprecated and will be removed from pandas in a future version. Import numpy directly instead\n",
      "  mpdf.loc[c, \"party\"] = pd.np.nan\n",
      "/tmp/ipykernel_1010360/3506906567.py:32: FutureWarning: The pandas.np module is deprecated and will be removed from pandas in a future version. Import numpy directly instead\n",
      "  mpdf.loc[c, \"party\"] = pd.np.nan\n"
     ]
    }
   ],
   "source": [
    "\n",
    "\n",
    "# Socijaldemokrati BiH have full name instead of abbreviation. Let's fix:\n",
    "# mpdf.query(\"party == 'Socijaldemokrati BiH'\" )\n",
    "c = mpdf.party == \"Socijaldemokrati BiH\"\n",
    "mpdf.loc[c, \"party\"] = \"SD BiH\"\n",
    "\n",
    "\n",
    "# Again the same problem:\n",
    "c = mpdf.party == 'Koalicija za cjelovitu i demokratsku BiH (SDA BiH, SBiH, Liberali BiH, GDS)'\n",
    "mpdf.loc[c, \"party\"] = \"KCD BiH\"\n",
    "\n",
    "\n",
    "# GDS: will have to be entered manually (see: https://en.wikipedia.org/wiki/Civic_Democratic_Party_(Bosnia_and_Herzegovina))\n",
    "\n",
    "# `Koalicija ` [sic]: can be resolved by removing the whitespace:\n",
    "c = mpdf.party == \"Koalicija \"\n",
    "mpdf.loc[c, \"party\"] = \"Koalicija\"\n",
    "\n",
    "# `Demokratska fronta - Željko Komšić` will be replaced by DF (demokratska fronta).\n",
    "c = mpdf.party == \"Demokratska fronta - Željko Komšić\"\n",
    "mpdf.loc[c, \"party\"] = \"DF\"\n",
    "\n",
    "# 'NHI - HKDU' should be `'NHI-HKDU'`:\n",
    "c = mpdf.party == 'NHI - HKDU'\n",
    "mpdf.loc[c, \"party\"] = \"NHI-HKDU\"\n",
    "\n",
    "# For `Samostojni poslanik` I'll set NaN:\n",
    "c = mpdf.party == 'Samostalni poslanik'\n",
    "mpdf.loc[c, \"party\"] = pd.np.nan\n",
    "\n",
    "# Same for `none`:\n",
    "c = mpdf.party == 'none'\n",
    "mpdf.loc[c, \"party\"] = pd.np.nan\n",
    "\n",
    "# Stjepan Krešić is the only instance of Hrvatska stranka Prava, but the only mention of this party is in Koalicija. I will therefore add him to the Koalicija:\n",
    "c = mpdf.party == \"HSP\"\n",
    "mpdf.loc[c, \"party\"] = \"Koalicija\"\n",
    "\n",
    "# Halil\tMehtić\tis the only one with party: BSP. On parlament.ba it is listed as BSP, so it can't be a typo for  Bosanska Patriotska stranka.\n",
    "# Unsure what to do here.\n",
    "# The only hit I find is Bosanskohercegovačka stranka prava 1861 (https://en.wikipedia.org/wiki/Party_of_Rights_of_Bosnia_and_Herzegovina_1861)\n",
    "# likely I'll need to add it manually.\n",
    "# mpdf[mpdf.party=='BSP']\n",
    "\n",
    "# For 'SBB - Fahrudin Radončić', I'll swap it for SBB:\n",
    "c = mpdf.party == 'SBB - Fahrudin Radončić'\n",
    "mpdf.loc[c, \"party\"] = \"SBB\"\n",
    "\n",
    "# Same for 'BPS - Sefer Halilović':\n",
    "c = mpdf.party == 'BPS - Sefer Halilović'\n",
    "mpdf.loc[c, \"party\"] = \"BPS\"\n",
    "\n",
    "# HDZ 1990 – HSPBiH: 2 MPs, Like Stjepan Krešić I'll set them to Koalicija:\n",
    "c = mpdf.party == \"HDZ 1990 – HSPBiH\"\n",
    "mpdf.loc[c, \"party\"] = \"Koalicija\"\n",
    "\n",
    "\n",
    "# 'NS Radom za boljitak' is simple, it's just full name for \"NS RB\":\n",
    "c = mpdf.party == 'NS Radom za boljitak'\n",
    "mpdf.loc[c, \"party\"] = \"NS RB\"\n",
    "\n",
    "# 'Koalicija SNSD - DSP': only one instance in MPdf. I impute it with 'K-SNSD' based on the coalition composition attribute of this \n",
    "# party, on the terms matching, and on Wiki page of Željko Mirjanić\n",
    "c = mpdf.party == 'Koalicija SNSD - DSP'\n",
    "mpdf.loc[c, \"party\"] = \"K-SNSD\"\n",
    "\n",
    "# based on https://en.wikipedia.org/wiki/Economic_Bloc, I change  'Ekonomski blok - HDU - Za boljitak' to Ekonomski blok\n",
    "c = mpdf.party == 'Ekonomski blok - HDU - Za boljitak'\n",
    "mpdf.loc[c, \"party\"] = \"EB\"\n",
    "\n",
    "# With the same argument as a few lines above I set HSS to Koalicija. This only works for one of the 2 instances. For the other (Šimić, Ilija) I'll likely\n",
    "# have to manually add HSS...\n",
    "c = (mpdf.party == \"HSS\") & (mpdf.term2 == 7)\n",
    "mpdf.loc[c, \"party\"] = \"Koalicija\"\n",
    "\n",
    "c = (mpdf.party == 'HDZ BiH - Hrvatska koalicija - HNZ')\n",
    "mpdf.loc[c, \"party\"] = \"HDZ-HK-HNZ\"\n",
    "\n",
    "c = mpdf.party == 'DF – GS, Željko Komšić: BiH pobjeđuje!'\n",
    "mpdf.loc[c, \"party\"] = \"DF\"\n",
    "\n",
    "\n",
    "c = mpdf.party == 'Koalicija HDZ BiH, HSS, HKDU BiH, HSP DR. Ante Starčević, HSP Herceg-Bosne'\n",
    "mpdf.loc[c, \"party\"] = \"Koalicija\"\n",
    "\n",
    "# Later: manually add HSS, BSP, GDS"
   ]
  },
  {
   "cell_type": "markdown",
   "metadata": {},
   "source": [
    "# Before we continue\n",
    "\n",
    "Let's make sure that the abbreviations are formatted nicely and in the same way:"
   ]
  },
  {
   "cell_type": "code",
   "execution_count": 160,
   "metadata": {},
   "outputs": [
    {
     "data": {
      "text/plain": [
       "array(['SDA', 'SDP BiH', 'HDZ BiH', 'SNS', 'SPRS', 'SRSRS', 'SNSD',\n",
       "       'SBiH', 'SDS', 'GDS', 'NS RB', 'DNS', 'HSS', 'NHI', 'PDP',\n",
       "       'HDZ 1990', 'Koalicija', 'DF', 'SBB', 'KCD BiH', 'RSRS', 'Sloga',\n",
       "       'SD BiH', 'DNZ BiH', 'NHI-HKDU', 'BSP', 'DSP BiH', 'K-SNSD',\n",
       "       'SDUBiH', 'SPUBiH', 'BOSS', 'EB', 'BPS', 'HDZ-HK-HNZ', nan,\n",
       "       'A-SDA', 'PDP-NDP', 'NB', 'SP', 'NS', 'PDA'], dtype=object)"
      ]
     },
     "execution_count": 160,
     "metadata": {},
     "output_type": "execute_result"
    }
   ],
   "source": [
    "mpdf.party.unique()"
   ]
  },
  {
   "cell_type": "code",
   "execution_count": 163,
   "metadata": {},
   "outputs": [],
   "source": [
    "def nicefy_abbreviations(s: str):\n",
    "    if isinstance(s, str):\n",
    "        return s.replace(\" \", \"_\")\n",
    "    return s\n",
    "mpdf[\"party\"] = mpdf.party.apply(nicefy_abbreviations)\n",
    "partiesdf[\"party\"] = partiesdf.party.apply(nicefy_abbreviations)\n",
    "\n",
    "\n",
    "mpdf.to_pickle(directory + \"/\" \"mpdf_corrected.pickle\")\n",
    "partiesdf.to_pickle(directory + \"/\" \"partiesdf_corrected.pickle\")"
   ]
  },
  {
   "cell_type": "code",
   "execution_count": null,
   "metadata": {},
   "outputs": [],
   "source": []
  }
 ],
 "metadata": {
  "kernelspec": {
   "display_name": "base",
   "language": "python",
   "name": "python3"
  },
  "language_info": {
   "codemirror_mode": {
    "name": "ipython",
    "version": 3
   },
   "file_extension": ".py",
   "mimetype": "text/x-python",
   "name": "python",
   "nbconvert_exporter": "python",
   "pygments_lexer": "ipython3",
   "version": "3.9.7"
  },
  "orig_nbformat": 4,
  "vscode": {
   "interpreter": {
    "hash": "2d30c88cb7145d662123f76f8c64609bc18e52940d2861adec2407b68f2e334f"
   }
  }
 },
 "nbformat": 4,
 "nbformat_minor": 2
}
