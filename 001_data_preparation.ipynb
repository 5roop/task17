{
 "cells": [
  {
   "cell_type": "code",
   "execution_count": 3,
   "metadata": {},
   "outputs": [],
   "source": [
    "%%bash\n",
    "# cp -r /home/michal/ParlaMint/{SRB,BiH} ..\n",
    "# cp /home/rupnik/parlamint/task16/utils.py /home/rupnik/parlamint/task17"
   ]
  },
  {
   "cell_type": "markdown",
   "metadata": {},
   "source": [
    "# Bosnian session splitting:"
   ]
  },
  {
   "cell_type": "code",
   "execution_count": 4,
   "metadata": {},
   "outputs": [
    {
     "name": "stderr",
     "output_type": "stream",
     "text": [
      "mkdir: cannot create directory ‘/home/rupnik/parlamint/BiH/S_data’: File exists\n"
     ]
    }
   ],
   "source": [
    "lang = \"BiH\"\n",
    "\n",
    "from pathlib import Path\n",
    "import shutil\n",
    "import os\n",
    "\n",
    "location_of_original_data = f\"/home/rupnik/parlamint/{lang}/\"\n",
    "\n",
    "from utils import parse_meta_file, parse_text_file\n",
    "os.system(f\"mkdir {location_of_original_data}S_data\")\n",
    "metafiles = Path(location_of_original_data).glob(\"*_meta.tsv\")\n",
    "\n",
    "from utils import correct_id\n",
    "\n",
    "\n",
    "for m in metafiles:\n",
    "    metadf = parse_meta_file(str(m.absolute()))\n",
    "    textdf = parse_text_file(str(m.absolute()).replace(\"meta\", \"text\").replace(\".tsv\", \".txt\"))\n",
    "    term = metadf.Term.unique()\n",
    "    assert len(term) == 1, \"More than one term in file!\"\n",
    "    term = int(term[0])\n",
    "    for session in metadf.Session.unique():\n",
    "        subset = metadf[metadf.Session==session].reset_index(drop=True)\n",
    "        textsubset = textdf[textdf.ID.isin(subset.ID)].reset_index(drop=True)\n",
    "        \n",
    "        filename = f\"meta_T{term:02}_S{session}.tsv\"\n",
    "            \n",
    "        \n",
    "        # Skip if we have no texts for session:\n",
    "        if textsubset.shape[0] == 0:\n",
    "            continue\n",
    "        \n",
    "        # # Correcting IDs:\n",
    "        # subset[\"ID\"] = subset.ID.apply(correct_id)\n",
    "        # textsubset[\"ID\"] = textsubset.ID.apply(correct_id)\n",
    "\n",
    "        # Writing data\n",
    "        subset.to_csv(f\"{location_of_original_data}S_data/{filename}\",sep=\"\\t\", index=False)\n",
    "        with open(f\"{location_of_original_data}S_data/\"+filename.replace(\"meta\", \"text\").replace(\"tsv\", \"txt\"), \"w\") as f:\n",
    "            f.writelines([\n",
    "                f\"{row['ID']} {row['Text']}\\n\" for i, row in textsubset.iterrows()\n",
    "            ])"
   ]
  },
  {
   "cell_type": "code",
   "execution_count": null,
   "metadata": {},
   "outputs": [],
   "source": []
  }
 ],
 "metadata": {
  "kernelspec": {
   "display_name": "base",
   "language": "python",
   "name": "python3"
  },
  "language_info": {
   "codemirror_mode": {
    "name": "ipython",
    "version": 3
   },
   "file_extension": ".py",
   "mimetype": "text/x-python",
   "name": "python",
   "nbconvert_exporter": "python",
   "pygments_lexer": "ipython3",
   "version": "3.9.7"
  },
  "orig_nbformat": 4,
  "vscode": {
   "interpreter": {
    "hash": "2d30c88cb7145d662123f76f8c64609bc18e52940d2861adec2407b68f2e334f"
   }
  }
 },
 "nbformat": 4,
 "nbformat_minor": 2
}
