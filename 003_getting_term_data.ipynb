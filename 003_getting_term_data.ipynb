{
 "cells": [
  {
   "cell_type": "code",
   "execution_count": 9,
   "metadata": {},
   "outputs": [],
   "source": [
    "import pandas as pd\n",
    "from pathlib import Path\n",
    "\n",
    "metadir = Path(\"/home/rupnik/parlamint/BiH\")\n",
    "metas = list(metadir.glob(\"*meta.tsv\"))\n",
    "\n",
    "df = pd.concat(\n",
    "    pd.read_csv(i.__str__(), delimiter=\"\\t\", usecols=[\"From\", \"To\", \"Term\"])\n",
    "    for i in metas\n",
    ")\n",
    "\n",
    "df.groupby(\"Term\").agg({\n",
    "    \"From\": min,\n",
    "    \"To\": max\n",
    "}).to_csv(\n",
    "    str(metadir/(\"terms.csv\"))\n",
    "    )\n"
   ]
  },
  {
   "cell_type": "code",
   "execution_count": 10,
   "metadata": {},
   "outputs": [
    {
     "data": {
      "text/plain": [
       "(139899, 3)"
      ]
     },
     "execution_count": 10,
     "metadata": {},
     "output_type": "execute_result"
    }
   ],
   "source": [
    "df.shape"
   ]
  }
 ],
 "metadata": {
  "kernelspec": {
   "display_name": "base",
   "language": "python",
   "name": "python3"
  },
  "language_info": {
   "codemirror_mode": {
    "name": "ipython",
    "version": 3
   },
   "file_extension": ".py",
   "mimetype": "text/x-python",
   "name": "python",
   "nbconvert_exporter": "python",
   "pygments_lexer": "ipython3",
   "version": "3.9.7"
  },
  "orig_nbformat": 4,
  "vscode": {
   "interpreter": {
    "hash": "2d30c88cb7145d662123f76f8c64609bc18e52940d2861adec2407b68f2e334f"
   }
  }
 },
 "nbformat": 4,
 "nbformat_minor": 2
}
