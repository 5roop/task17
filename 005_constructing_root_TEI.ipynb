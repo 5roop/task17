{
 "cells": [
  {
   "cell_type": "code",
   "execution_count": 42,
   "metadata": {},
   "outputs": [],
   "source": [
    "from typing import Union, List\n",
    "from pathlib import Path\n",
    "import pandas as pd\n",
    "import numpy as np\n",
    "import pickle\n",
    "pd.set_option('display.max_colwidth', None)\n",
    "pd.set_option('display.max_columns', None)\n",
    "pd.set_option('display.max_rows', None)\n",
    "\n",
    "mpdf = pd.read_pickle(\"../BiH/mpdf_corrected.pickle\")\n",
    "mpdf[\"party\"] = mpdf.party.fillna(\"NEZAVISNI\")\n",
    "partiesdf = pd.read_pickle(\"../BiH/partiesdf_corrected.pickle\")\n",
    "termdata = pd.read_csv(\"../BiH/terms.csv\").set_index(\"Term\").astype(str)\n",
    "\n",
    "\n",
    "with open(\"005_additional_persons.pickle\", \"rb\") as f:\n",
    "    additional_persons = pickle.load(f)\n",
    "with open(\"005_ignore_keys.pickle\", \"rb\") as f:\n",
    "    keys_to_delete = pickle.load(f)\n",
    "\n",
    "\n",
    "from tqdm import tqdm\n",
    "tqdm.pandas()\n",
    "\n"
   ]
  },
  {
   "cell_type": "code",
   "execution_count": 43,
   "metadata": {},
   "outputs": [],
   "source": [
    "mpdf[\"reference_name\"] = mpdf.fullname.apply(lambda fullname: \"\".join(fullname.split()).replace(\",\", \"\").replace(\" \", \"\").replace(\"–\", \"-\"))"
   ]
  },
  {
   "cell_type": "markdown",
   "metadata": {},
   "source": [
    "We have to mitigate the fact that in a significant proportion of cases there is no codeMP available.\n",
    "\n",
    "In these instances I will assign the codeMP as `i999`, with 999 standing for row number."
   ]
  },
  {
   "cell_type": "code",
   "execution_count": 44,
   "metadata": {},
   "outputs": [
    {
     "data": {
      "text/plain": [
       "0"
      ]
     },
     "execution_count": 44,
     "metadata": {},
     "output_type": "execute_result"
    }
   ],
   "source": [
    "c = mpdf.codemp.isna()\n",
    "new_code_mps = np.array([f\"i{i:03d}\" for i, j in enumerate(c)])\n",
    "\n",
    "mpdf.loc[c, \"codemp\"] = new_code_mps[c]\n",
    "mpdf.codemp.isna().sum()"
   ]
  },
  {
   "cell_type": "markdown",
   "metadata": {},
   "source": [
    "\n",
    "Fix missing dates where we have years available:"
   ]
  },
  {
   "cell_type": "code",
   "execution_count": 45,
   "metadata": {},
   "outputs": [],
   "source": [
    "c = ( mpdf.date_of_birth == \"-\" )& (~mpdf.year_of_birth.isna()) & (~(mpdf.year_of_birth == \"-\"))\n",
    "mpdf.loc[c, \"date_of_birth\"] = mpdf.year_of_birth[c]"
   ]
  },
  {
   "cell_type": "markdown",
   "metadata": {},
   "source": [
    "Let's see which parties have non-trivial names:"
   ]
  },
  {
   "cell_type": "code",
   "execution_count": 46,
   "metadata": {},
   "outputs": [
    {
     "data": {
      "text/html": [
       "<div>\n",
       "<style scoped>\n",
       "    .dataframe tbody tr th:only-of-type {\n",
       "        vertical-align: middle;\n",
       "    }\n",
       "\n",
       "    .dataframe tbody tr th {\n",
       "        vertical-align: top;\n",
       "    }\n",
       "\n",
       "    .dataframe thead th {\n",
       "        text-align: right;\n",
       "    }\n",
       "</style>\n",
       "<table border=\"1\" class=\"dataframe\">\n",
       "  <thead>\n",
       "    <tr style=\"text-align: right;\">\n",
       "      <th></th>\n",
       "      <th>full_name</th>\n",
       "    </tr>\n",
       "    <tr>\n",
       "      <th>party</th>\n",
       "      <th></th>\n",
       "    </tr>\n",
       "  </thead>\n",
       "  <tbody>\n",
       "    <tr>\n",
       "      <th>DNZ_BiH</th>\n",
       "      <td>{Demokratska narodna zajednica, Demokratska narodna zajednica BiH}</td>\n",
       "    </tr>\n",
       "  </tbody>\n",
       "</table>\n",
       "</div>"
      ],
      "text/plain": [
       "                                                                  full_name\n",
       "party                                                                      \n",
       "DNZ_BiH  {Demokratska narodna zajednica, Demokratska narodna zajednica BiH}"
      ]
     },
     "execution_count": 46,
     "metadata": {},
     "output_type": "execute_result"
    }
   ],
   "source": [
    "gb = partiesdf.groupby(\"party\").agg({\n",
    "    \"full_name\": lambda l: len(set(l)),\n",
    "    # \"full_name\": set\n",
    "})\n",
    "problematic_abbreviations = gb[gb.full_name != 1].index.values\n",
    "problematic_abbreviations\n",
    "\n",
    "gb = partiesdf[partiesdf.party.isin(problematic_abbreviations)].groupby(\"party\").agg({\n",
    "    \"full_name\": set,\n",
    "})\n",
    "gb"
   ]
  },
  {
   "cell_type": "markdown",
   "metadata": {},
   "source": [
    "<!-- # Recipe:\n",
    "\n",
    "* `Demohrišćanska Stranka Srbije` -> `Demohrišćanska stranka Srbije` in accordance with Wikipedia.\n",
    "* `Pokret socilalista` -> `Pokret socialista`, seems a human error.\n",
    "* `Socijaldemokratska partija` -> `Socijaldemokratska partija Srbije`, in accordance with Wikipedia. The abbreviation to be changed to SDPS in accordance with Wikipedia. There is no extant party with SDPS abbreviation. `Sandžačka demokratska partija` can remain abbreviated SDP.\n",
    "* `Liga za Šumadiju` to be assigned LŠ, `Lista za Sandžak` to be left LS\n",
    "* `Bogata Srbija` to be assigned BogS, `Bolja Srbija` preserves BS\n",
    "\n",
    "While this is easily done in parties table, but for MPs we have no party affiliation other than the abbreviation. This will have to be done manually for parties BS, LS, SDP. -->"
   ]
  },
  {
   "cell_type": "code",
   "execution_count": 47,
   "metadata": {},
   "outputs": [],
   "source": [
    "partiesdf[\"full_name\"] = partiesdf.full_name.replace({\n",
    "    \"Demokratska narodna zajednica\": \"Demokratska narodna zajednica BiH\",\n",
    "})"
   ]
  },
  {
   "cell_type": "code",
   "execution_count": 48,
   "metadata": {},
   "outputs": [],
   "source": [
    "from xml.etree.ElementTree import Element, SubElement, tostring, XML, parse\n",
    "from xml.dom import minidom\n",
    "def pretty_print(s) -> None:\n",
    "    print(minidom.parseString(tostring(s).decode(\"utf\")).toprettyxml(\"\\t\"))\n",
    "def pretty_string(s) -> None:\n",
    "    return minidom.parseString(tostring(s).decode(\"utf\")).toprettyxml(\"\\t\")"
   ]
  },
  {
   "cell_type": "markdown",
   "metadata": {},
   "source": [
    "# Terms (line 438):\n",
    "\n",
    "path: `/teiCorpus/teiHeader/profileDesc/particDesc/listOrg/org[2]/listEvent`"
   ]
  },
  {
   "cell_type": "code",
   "execution_count": 49,
   "metadata": {},
   "outputs": [],
   "source": [
    "listEvent = Element(\"listEvent\")\n",
    "head = SubElement(listEvent, \"head\")\n",
    "head.set(\"xml:lang\", \"bs\")\n",
    "head.text = \"Mandatno obdoblje\"\n",
    "head = SubElement(listEvent, \"head\")\n",
    "head.set(\"xml:lang\", \"en\")\n",
    "head.text = \"Legislative period\"\n",
    "\n",
    "for i, row in termdata.iterrows():\n",
    "    event = SubElement(listEvent, \"event\")\n",
    "    event.set(\"xml:id\", f\"PS.{i}\")\n",
    "    event.set(\"from\", row[\"From\"])\n",
    "    to = row[\"To\"]\n",
    "    if not pd.isna(to):\n",
    "        event.set(\"to\", row[\"To\"])\n",
    "    \n",
    "    label = SubElement(event, \"label\")\n",
    "    label.set(\"xml:lang\", \"bs\")\n",
    "    label.text = f\"{int(i)}. saziv\"\n",
    "    label = SubElement(event, \"label\")\n",
    "    label.set(\"xml:lang\", \"en\")\n",
    "    label.text = f\"Term {int(i)}\"\n",
    "listEvent_str = pretty_string(listEvent)\n",
    "listEvent_str = \"\\n\".join(listEvent_str.split(\"\\n\")[1:])"
   ]
  },
  {
   "cell_type": "markdown",
   "metadata": {},
   "source": [
    "# Parties: line 447\n",
    "\n",
    "path:\n",
    "`/teiCorpus/teiHeader/profileDesc/particDesc/listOrg/org[3:]`"
   ]
  },
  {
   "cell_type": "code",
   "execution_count": 50,
   "metadata": {},
   "outputs": [],
   "source": [
    "partiesdf[\"id\"] = partiesdf.party.copy()\n",
    "\n",
    "partydata = partiesdf[\"party full_name id\".split()].drop_duplicates()\n",
    "\n",
    "orgs = []\n",
    "for i, row in partydata.iterrows():\n",
    "    org = Element(\"org\")\n",
    "    org.set(\"xml:id\", row[\"id\"])\n",
    "    org.set(\"role\", \"parliamentaryGroup\")\n",
    "    orgName = SubElement(org, \"orgName\")\n",
    "    orgName.set(\"full\", \"yes\")\n",
    "    orgName.set(\"xml:lang\", \"bs\")\n",
    "    orgName.text = row[\"full_name\"]\n",
    "    \n",
    "    orgName = SubElement(org, \"orgName\")\n",
    "    orgName.set(\"full\", \"abb\")\n",
    "    orgName.text = row[\"party\"]\n",
    "    orgs.append(org)\n",
    "    \n",
    "# Add nezavisni:\n",
    "org = Element(\"org\")\n",
    "org.set(\"xml:id\", \"party.NEZAVISNI\")\n",
    "org.set(\"role\", \"parliamentaryGroup\")\n",
    "orgName = SubElement(org, \"orgName\")\n",
    "orgName.set(\"full\", \"yes\")\n",
    "orgName.set(\"xml:lang\", \"bs\")\n",
    "orgName.text = \"nezavisni\"\n",
    "orgName = SubElement(org, \"orgName\")\n",
    "orgName.set(\"full\", \"abb\")\n",
    "orgName.text = \"NEZAVISNI\"\n",
    "orgs.append(org)\n",
    "\n",
    "# Add HSS:\n",
    "org = Element(\"org\")\n",
    "org.set(\"xml:id\", \"party.HSS\")\n",
    "org.set(\"role\", \"parliamentaryGroup\")\n",
    "orgName = SubElement(org, \"orgName\")\n",
    "orgName.set(\"full\", \"yes\")\n",
    "orgName.set(\"xml:lang\", \"bs\")\n",
    "orgName.text = \"Hrvatska seljačka stranka\"\n",
    "orgName = SubElement(org, \"orgName\")\n",
    "orgName.set(\"full\", \"abb\")\n",
    "orgName.text = \"HSS\"\n",
    "orgs.append(org)\n",
    "\n",
    "# Add GDS:\n",
    "org = Element(\"org\")\n",
    "org.set(\"xml:id\", \"party.GDS\")\n",
    "org.set(\"role\", \"parliamentaryGroup\")\n",
    "orgName = SubElement(org, \"orgName\")\n",
    "orgName.set(\"full\", \"yes\")\n",
    "orgName.set(\"xml:lang\", \"bs\")\n",
    "orgName.text = \"Građanska demokratska stranka\"\n",
    "orgName = SubElement(org, \"orgName\")\n",
    "orgName.set(\"full\", \"abb\")\n",
    "orgName.text = \"GDS\"\n",
    "orgs.append(org)\n",
    "\n",
    "# Add BSP:\n",
    "org = Element(\"org\")\n",
    "org.set(\"xml:id\", \"party.BSP\")\n",
    "org.set(\"role\", \"parliamentaryGroup\")\n",
    "orgName = SubElement(org, \"orgName\")\n",
    "orgName.set(\"full\", \"yes\")\n",
    "orgName.set(\"xml:lang\", \"bs\")\n",
    "orgName.text = \"Bosanskohercegovačka stranka prava 1861\"\n",
    "orgName = SubElement(org, \"orgName\")\n",
    "orgName.set(\"full\", \"abb\")\n",
    "orgName.text = \"BSP\"\n",
    "orgs.append(org)\n",
    "\n",
    "\n",
    "orgs = [pretty_string(i) for i in orgs]\n",
    "\n",
    "orgstring = \"\\n\".join(\n",
    "    [\"\\n\".join(org.split(\"\\n\")[1:])for org in orgs]\n",
    ")\n",
    "# print(orgstring)"
   ]
  },
  {
   "cell_type": "markdown",
   "metadata": {},
   "source": [
    "# People: line 525\n",
    "\n",
    "path: `/teiCorpus/teiHeader/profileDesc/particDesc/listPerson`"
   ]
  },
  {
   "cell_type": "code",
   "execution_count": 51,
   "metadata": {},
   "outputs": [],
   "source": [
    "listPerson = additional_persons\n",
    "codemps = mpdf.codemp.drop_duplicates()\n",
    "\n",
    "\n",
    "names = mpdf.reference_name.unique()\n",
    "from utils import drop_punctuation\n",
    "for i, name in enumerate(names):    \n",
    "    subset = mpdf.query(f\"reference_name=='{name}'\").reset_index(drop=True)\n",
    "    surname = subset.lastname[0]\n",
    "    forename = subset.firstname[0]\n",
    "    fullname = subset.fullname[0]\n",
    "    sex = \"M\" if subset.gender[0] == 0 else \"F\"\n",
    "    birth = str(subset.date_of_birth[0])\n",
    "    c = subset.codemp[0]\n",
    "    try:\n",
    "        birth = f\"{birth[0:4]}-{birth[4:6]}-{birth[-2:]}\"\n",
    "    except:\n",
    "        pass\n",
    "    reference_name = name\n",
    "    \n",
    "    person = Element(\"person\")\n",
    "    person.set(\"xml:id\", reference_name)\n",
    "    persName = SubElement(person, \"persName\")\n",
    "    \n",
    "    buf = SubElement(persName, \"surname\")\n",
    "    buf.text = surname\n",
    "    \n",
    "    buf = SubElement(persName, \"forename\")\n",
    "    buf.text = forename\n",
    "    \n",
    "    buf = SubElement(person, \"sex\")\n",
    "    buf.set(\"value\", sex)\n",
    "    try:\n",
    "        int(birth) # This will trip if date isn't a numerically-parsable string\n",
    "        buf = SubElement(person, \"birth\")\n",
    "        buf.set(\"when\", birth)\n",
    "    except:\n",
    "        pass\n",
    "    \n",
    "\n",
    "    for i, row in subset.drop_duplicates().iterrows():  \n",
    "        if not ((row['party'] == \"-\") or (row['party'] not in partiesdf.party.values.tolist())):\n",
    "            term = row[\"term2\"]\n",
    "            fromto = termdata.loc[term, :]\n",
    "            aff = SubElement(person, \"affiliation\")\n",
    "            aff.set(\"role\", \"member\")\n",
    "            aff.set(\"ref\", f\"#{row['party']}\")\n",
    "            aff.set(\"from\", fromto.From)\n",
    "            if not pd.isna(fromto.To):\n",
    "                aff.set(\"to\", fromto.To)\n",
    "            rolename = SubElement(aff, \"roleName\")\n",
    "            rolename.set(\"xml:lang\", \"en\")\n",
    "            rolename.text = \"Member\"\n",
    "\n",
    "        aff = SubElement(person, \"affiliation\")\n",
    "        aff.set(\"role\", \"member\")\n",
    "        aff.set(\"ref\", \"#PS\")\n",
    "        aff.set(\"ana\", f\"#PS.{row['term2']}\")\n",
    "        aff.set(\"from\", fromto.From)\n",
    "        if not pd.isna(fromto.To):\n",
    "            aff.set(\"to\", fromto.To)\n",
    "        rolename = SubElement(aff, \"roleName\")\n",
    "        rolename.set(\"xml:lang\", \"en\")\n",
    "        rolename.text = \"MP\"\n",
    "    listPerson.append(person)"
   ]
  },
  {
   "cell_type": "code",
   "execution_count": 52,
   "metadata": {},
   "outputs": [],
   "source": [
    "listPerson = [\"\\n\".join(pretty_string(p).split(\"\\n\")[1:]) for p in listPerson]\n",
    "listPerson = \"\\n\".join(listPerson)\n"
   ]
  },
  {
   "cell_type": "code",
   "execution_count": 53,
   "metadata": {},
   "outputs": [],
   "source": [
    "path_to_term_tmxs = Path(\"/home/rupnik/parlamint/BiH/S/\")\n",
    "assert path_to_term_tmxs.exists()\n",
    "\n",
    "\n",
    "xiincludes = \"\"\n",
    "for file in sorted(list(path_to_term_tmxs.glob(\"ParlaMint-BA_T*.xml\")))[0:3]:\n",
    "    xiincludes += f\"\"\"    <xi:include xmlns:xi=\"http://www.w3.org/2001/XInclude\" href=\"{file.name}\"/>\\n\"\"\"\n"
   ]
  },
  {
   "cell_type": "markdown",
   "metadata": {},
   "source": [
    "# Relations\n",
    "\n",
    "path: `/teiCorpus/teiHeader/profileDesc/particDesc/listOrg/listRelation`"
   ]
  },
  {
   "cell_type": "code",
   "execution_count": 54,
   "metadata": {},
   "outputs": [],
   "source": [
    "# gb = partiesdf.groupby([\"term2\", \"coalition\"]).agg(\n",
    "#     {\n",
    "#         \"id\": lambda l: \" \".join(set([\"#\"+i for i in l]))\n",
    "#     }\n",
    "# )\n",
    "partiesdf[\"coalition\"] = partiesdf.coalition.astype(str)\n",
    "gb = partiesdf.groupby([\"term2\", \"coalition\"]).agg(\n",
    "    {\n",
    "        \"id\": lambda l: \" \".join(set([\"#\"+i for i in l if i in partydata.id.values\n",
    "                                      ]))\n",
    "    }\n",
    ")\n",
    "terms = partiesdf.term2.unique()\n",
    "listRelation = \"\"\n",
    "for term in terms:\n",
    "    if term > mpdf.term2.max():\n",
    "        continue\n",
    "    fromto = termdata.loc[term, :]\n",
    "    ind = (term, \"1\")\n",
    "    coalition = gb.loc[ind].id\n",
    "    ind = (term, \"0\")\n",
    "    opposition = gb.loc[ind].id\n",
    "    listRelation += f\"\"\"\n",
    "    <relation name=\"coalition\"\n",
    "            mutual=\"{coalition}\"\n",
    "            from=\"{fromto.From}\"\n",
    "            {'to=\"'+fromto.To+'\"' if not pd.isna(fromto.To) else \"\"}\n",
    "            ana=\"#PS.{term}\"/>\n",
    "    <relation name=\"opposition\"\n",
    "            active=\"{opposition}\"\n",
    "            passive=\"#government.BA\"\n",
    "            from=\"{fromto.From}\"\n",
    "            {'to=\"'+fromto.To+'\"' if not pd.isna(fromto.To) else \"\"}\n",
    "            ana=\"#PS.{term}\"/>\\n\"\"\"    "
   ]
  },
  {
   "cell_type": "markdown",
   "metadata": {},
   "source": [
    "# Counting extents and tagUsages"
   ]
  },
  {
   "cell_type": "code",
   "execution_count": 55,
   "metadata": {},
   "outputs": [],
   "source": [
    "from typing import Union\n",
    "from pathlib import Path\n",
    "def get_extent(path: Union[str, Path]):\n",
    "    if isinstance(path, Path):\n",
    "        assert path.exists()\n",
    "        path = str(path)\n",
    "    namespace= {\n",
    "        \"n\": \"http://www.tei-c.org/ns/1.0\",\n",
    "        \n",
    "    }\n",
    "    termtei = parse(path)\n",
    "    measures = termtei.getroot().findall(\".//n:measure\", namespaces=namespace)\n",
    "    for i in measures:\n",
    "        if i.get(\"unit\") == \"speeches\":\n",
    "            speeches = i.get(\"quantity\")\n",
    "        if i.get(\"unit\") == \"words\":\n",
    "            words = i.get(\"quantity\")\n",
    "    return {\"words\": int(words), \"speeches\": int(speeches)}\n",
    "\n",
    "def get_tagusage(path: Union[str, Path]):\n",
    "    if isinstance(path, Path):\n",
    "        assert path.exists()\n",
    "        path = str(path)\n",
    "    namespace= {\n",
    "        \"n\": \"http://www.tei-c.org/ns/1.0\",\n",
    "        \n",
    "    }\n",
    "    termtei = parse(path)\n",
    "    tagusages = termtei.getroot().findall(\".//n:tagUsage\", namespaces=namespace)\n",
    "    for i in tagusages:\n",
    "        if i.get(\"unit\") == \"speeches\":\n",
    "            speeches = i.get(\"quantity\")\n",
    "        if i.get(\"unit\") == \"words\":\n",
    "            words = i.get(\"quantity\")\n",
    "    return {i.get(\"gi\"): i.get(\"occurs\") for i in tagusages}\n",
    "\n",
    "path_to_term_tmxs = Path(\"/home/rupnik/parlamint/BiH/S/\")\n",
    "assert path_to_term_tmxs.exists()\n",
    "\n",
    "\n",
    "extents = []\n",
    "tagusages = []\n",
    "for file in sorted(list(path_to_term_tmxs.glob(\"ParlaMint-BA_T*.xml\"))):\n",
    "    extents.append(get_extent(file))\n",
    "    tagusages.append(get_tagusage(file))\n",
    "tus = pd.DataFrame(data=tagusages).astype(int)\n",
    "\n",
    "tagusage = \"\"\n",
    "for gi, occurs in tus.sum().items():\n",
    "    tagusage += f\"\"\"<tagUsage gi=\"{gi}\" occurs=\"{int(occurs)}\"/>\\n\"\"\"\n",
    "extent_count = pd.DataFrame(data=extents).astype(int).sum()\n",
    "words = extent_count[\"words\"]\n",
    "speeches = extent_count[\"speeches\"]\n",
    "extent = f\"\"\"<measure unit=\"speeches\" quantity=\"{speeches}\" xml:lang=\"bs\">{f'{speeches:,d}'.replace(',','.')} govora</measure>\n",
    "<measure unit=\"speeches\" quantity=\"{speeches}\" xml:lang=\"en\">{speeches:,d} speeches</measure>\n",
    "<measure unit=\"words\" quantity=\"{words}\" xml:lang=\"bs\">{f'{words:,d}'.replace(',','.')} riječi</measure>\n",
    "<measure unit=\"words\" quantity=\"{words}\" xml:lang=\"en\">{words:,d} words</measure>\n",
    "\"\"\""
   ]
  },
  {
   "cell_type": "markdown",
   "metadata": {},
   "source": [
    "# Putting it all together"
   ]
  },
  {
   "cell_type": "code",
   "execution_count": 56,
   "metadata": {},
   "outputs": [],
   "source": [
    "with open(\"/home/rupnik/parlamint/BiH/ParlaMint-BA_template.xml\") as f:\n",
    "    content = f.read()\n",
    "from string import Template\n",
    "template = Template(content)\n",
    "filled_in = template.substitute(\n",
    "    listEvent=listEvent_str,\n",
    "    orgs=orgstring,\n",
    "    listPerson=listPerson,\n",
    "    xiincludes=xiincludes,\n",
    "    listRelation=listRelation,\n",
    "    extent=extent,\n",
    "    tagusage=tagusage\n",
    ")\n",
    "\n",
    "with open(\"/home/rupnik/parlamint/BiH/ParlaMint-BA.xml\", \"w\") as f:\n",
    "    f.write(\n",
    "        filled_in\n",
    "    )\n"
   ]
  },
  {
   "cell_type": "code",
   "execution_count": 57,
   "metadata": {},
   "outputs": [
    {
     "name": "stderr",
     "output_type": "stream",
     "text": [
      "mkdir: cannot create directory ‘/home/rupnik/parlamint/ParlaMint/Data/ParlaMint-BA’: File exists\n"
     ]
    }
   ],
   "source": [
    "%%bash\n",
    "\n",
    "mkdir ~/parlamint/ParlaMint/Data/ParlaMint-BA\n",
    "\n",
    "cp ~/parlamint/BiH/S/* ~/parlamint/ParlaMint/Data/ParlaMint-BA/\n",
    "cp ~/parlamint/BiH/ParlaMint-BA.xml ~/parlamint/ParlaMint/Data/ParlaMint-BA/"
   ]
  },
  {
   "cell_type": "code",
   "execution_count": 58,
   "metadata": {},
   "outputs": [
    {
     "data": {
      "text/plain": [
       "0"
      ]
     },
     "execution_count": 58,
     "metadata": {},
     "output_type": "execute_result"
    }
   ],
   "source": [
    "# Fixing unusual speakers in the copied data:\n",
    "\n",
    "import os, shutil\n",
    "for key in keys_to_delete:\n",
    "    os.system(f\"\"\"sed -i 's/<u who=\"#{key}\"/<u/g' /home/rupnik/parlamint/ParlaMint/Data/ParlaMint-BA/* \"\"\")\n",
    "os.system(f\"\"\"sed -i 's/<u who=\"#LučićMiloš;JovićNedeljko\"/<u who=\"#LučićMiloš\"/g' /home/rupnik/parlamint/ParlaMint/Data/ParlaMint-BA/* \"\"\")\n",
    "os.system(f\"\"\"sed -i 's/\"Marinković–LepićMirjana\"/\"Marinković-LepićMirjana\"/g' /home/rupnik/parlamint/ParlaMint/Data/ParlaMint-BA/* \"\"\")\n",
    "os.system(f\"\"\"sed -i 's/\"Novaković–BursaćSnježana\"/\"Novaković-BursaćSnježana\"/g' /home/rupnik/parlamint/ParlaMint/Data/ParlaMint-BA/* \"\"\")"
   ]
  },
  {
   "cell_type": "code",
   "execution_count": 59,
   "metadata": {},
   "outputs": [
    {
     "name": "stdout",
     "output_type": "stream",
     "text": [
      "rm -rf Data/ParlaMint-BA/add-common-content\n",
      "mkdir -p Data/ParlaMint-BA/add-common-content\n",
      "java -jar /usr/share/java/saxon.jar outDir=Data/ParlaMint-BA/add-common-content \\\n",
      "   -xsl:Scripts/parlamint-add-common-content.xsl \\\n",
      "   Data/ParlaMint-BA/ParlaMint-BA.ana.xml || :\n",
      "java -jar /usr/share/java/saxon.jar outDir=Data/ParlaMint-BA/add-common-content \\\n",
      "   anaDir=`pwd`/Data/ParlaMint-BA/add-common-content/ParlaMint-BA \\\n",
      "   -xsl:Scripts/parlamint-add-common-content.xsl \\\n",
      "   Data/ParlaMint-BA/ParlaMint-BA.xml || :\n",
      "for component in `echo Data/ParlaMint-BA/ParlaMint-BA.ana.xml| xargs -I % java -cp /usr/share/java/saxon.jar net.sf.saxon.Query -xi:off \\!method=adaptive -qs:'//*[local-name()=\"teiHeader\"]//*[local-name()=\"include\"]/@href' -s:% |sed 's/^ *href=\"//;s/\"//'`; do \\\n",
      "  echo \"copying header component: Data/ParlaMint-BA/${component}\" ; \\\n",
      "    cp Data/ParlaMint-BA/${component} Data/ParlaMint-BA/add-common-content/ParlaMint-BA; \\\n",
      "done;\n",
      "echo \"Result is in: Data/ParlaMint-BA/add-common-content/ParlaMint-BA\"\n",
      "Result is in: Data/ParlaMint-BA/add-common-content/ParlaMint-BA\n"
     ]
    },
    {
     "name": "stderr",
     "output_type": "stream",
     "text": [
      "Source file Data/ParlaMint-BA/ParlaMint-BA.ana.xml does not exist\n",
      "ERROR : cannot locate .ana file /home/rupnik/parlamint/ParlaMint/Data/ParlaMint-BA/add-common-content/ParlaMint-BA/ParlaMint-BA_T02S01.ana.xml\n",
      "ERROR : cannot locate .ana file /home/rupnik/parlamint/ParlaMint/Data/ParlaMint-BA/add-common-content/ParlaMint-BA/ParlaMint-BA_T02S02.ana.xml\n",
      "ERROR : cannot locate .ana file /home/rupnik/parlamint/ParlaMint/Data/ParlaMint-BA/add-common-content/ParlaMint-BA/ParlaMint-BA_T02S03.ana.xml\n",
      "INFO: Starting to process ParlaMint-BA\n",
      "INFO: Processing ParlaMint-BA_T02S01.xml\n",
      "ERROR ParlaMint-BA_T02S01: no date in setting!\n",
      "Error at char 64 in expression in xsl:when/@test on line 328 column 59 of parlamint-add-common-content.xsl:\n",
      "  FORG0001  Invalid date \"\" (Too short)\n",
      "  In template rule with match=\"element(Q{http://www.tei-c.org/ns/1.0}TEI)/attribute(Q{}ana)\" on line 307 of parlamint-add-common-content.xsl\n",
      "Invalid date \"\" (Too short)\n",
      "Source file Data/ParlaMint-BA/ParlaMint-BA.ana.xml does not exist\n",
      "cp: -r not specified; omitting directory 'add-common-content/ParlaMint-BA'\n"
     ]
    }
   ],
   "source": [
    "%%bash\n",
    "\n",
    "\n",
    "cd /home/rupnik/parlamint/ParlaMint\n",
    "\n",
    "# Validation\n",
    "make add-common-content-BA\n",
    "cd Data/ParlaMint-BA/\n",
    "cp add-common-content/* .\n",
    "rm -r add-common-content"
   ]
  },
  {
   "cell_type": "code",
   "execution_count": 60,
   "metadata": {},
   "outputs": [
    {
     "name": "stdout",
     "output_type": "stream",
     "text": [
      "Scripts/validate-parlamint.pl Schema 'Data/ParlaMint-BA'\n"
     ]
    },
    {
     "name": "stderr",
     "output_type": "stream",
     "text": [
      "INFO: Validating directory /home/rupnik/parlamint/ParlaMint/Data/ParlaMint-BA\n",
      "INFO: Validating TEI root /home/rupnik/parlamint/ParlaMint/Data/ParlaMint-BA/ParlaMint-BA.xml\n",
      "INFO: XML validation for ParlaMint-BA.xml\n",
      "/home/rupnik/parlamint/ParlaMint/Data/ParlaMint-BA/ParlaMint-BA.xml:1521:43: error: value of attribute \"xml:id\" is invalid; must be an XML name without colons\n",
      "/home/rupnik/parlamint/ParlaMint/Data/ParlaMint-BA/ParlaMint-BA.xml:1787:37: error: value of attribute \"xml:id\" is invalid; must be an XML name without colons\n",
      "/home/rupnik/parlamint/ParlaMint/Data/ParlaMint-BA/ParlaMint-BA.xml:7489:42: error: ID \"Marinković-LepićMirjana\" has already been defined\n",
      "/home/rupnik/parlamint/ParlaMint/Data/ParlaMint-BA/ParlaMint-BA.xml:1808:42: error: first occurrence of ID \"Marinković-LepićMirjana\"\n",
      "/home/rupnik/parlamint/ParlaMint/Data/ParlaMint-BA/ParlaMint-BA.xml:7601:43: error: ID \"Novaković-BursaćSnježana\" has already been defined\n",
      "/home/rupnik/parlamint/ParlaMint/Data/ParlaMint-BA/ParlaMint-BA.xml:2746:43: error: first occurrence of ID \"Novaković-BursaćSnježana\"\n",
      "INFO: Content validaton for ParlaMint-BA.xml\n",
      "INFO: particDesc content validaton for ParlaMint-BA.xml\n",
      "INFO[10] : Total number of affiliations with government.BA: 0\n",
      "ERROR[10] : government-role organisation without affiliation: #government.BA\n",
      "INFO[10] : Total number of affiliations with PS: 402\n",
      "INFO[10] : Total number of affiliations with DNZ_BiH: 5\n",
      "INFO[10] : Total number of affiliations with HDZ_BiH: 40\n",
      "INFO[10] : Total number of affiliations with KCD_BiH: 17\n",
      "INFO[10] : Total number of affiliations with NHI-HKDU: 1\n",
      "INFO[10] : Total number of affiliations with RSRS: 1\n",
      "INFO[10] : Total number of affiliations with SDP_BiH: 47\n",
      "INFO[10] : Total number of affiliations with SDS: 39\n",
      "INFO[10] : Total number of affiliations with Sloga: 4\n",
      "INFO[10] : Total number of affiliations with SD_BiH: 2\n",
      "INFO[10] : Total number of affiliations with SRSRS: 4\n",
      "INFO[10] : Total number of affiliations with BPS: 2\n",
      "INFO[10] : Total number of affiliations with DSP_BiH: 1\n",
      "INFO[10] : Total number of affiliations with K-SNSD: 1\n",
      "INFO[10] : Total number of affiliations with NHI: 3\n",
      "INFO[10] : Total number of affiliations with PDP: 13\n",
      "INFO[10] : Total number of affiliations with SBiH: 26\n",
      "INFO[10] : Total number of affiliations with SDA: 71\n",
      "INFO[10] : Total number of affiliations with SNS: 2\n",
      "INFO[10] : Total number of affiliations with SPRS: 4\n",
      "INFO[10] : Total number of affiliations with BOSS: 1\n",
      "INFO[10] : Total number of affiliations with EB: 1\n",
      "INFO[10] : Total number of affiliations with SDUBiH: 1\n",
      "INFO[10] : Total number of affiliations with SNSD: 43\n",
      "INFO[10] : Total number of affiliations with SPUBiH: 1\n",
      "INFO[10] : Total number of affiliations with DNS: 7\n",
      "INFO[10] : Total number of affiliations with HZ: 0\n",
      "WARN[10] : parliamentaryGroup-role organisation without affiliation: #HZ\n",
      "INFO[10] : Total number of affiliations with HDZ-HK-HNZ: 3\n",
      "INFO[10] : Total number of affiliations with NS_RB: 3\n",
      "INFO[10] : Total number of affiliations with HK: 0\n",
      "WARN[10] : parliamentaryGroup-role organisation without affiliation: #HK\n",
      "INFO[10] : Total number of affiliations with SBB: 11\n",
      "INFO[10] : Total number of affiliations with A-SDA: 2\n",
      "INFO[10] : Total number of affiliations with DF: 9\n",
      "INFO[10] : Total number of affiliations with HDZ_1990: 7\n",
      "INFO[10] : Total number of affiliations with Koalicija: 13\n",
      "INFO[10] : Total number of affiliations with PDP-NDP: 1\n",
      "INFO[10] : Total number of affiliations with NS: 2\n",
      "INFO[10] : Total number of affiliations with NB: 1\n",
      "INFO[10] : Total number of affiliations with PDA: 1\n",
      "INFO[10] : Total number of affiliations with SP: 1\n",
      "INFO[10] : Total number of affiliations with party.NEZAVISNI: 0\n",
      "WARN[10] : parliamentaryGroup-role organisation without affiliation: #party.NEZAVISNI\n",
      "INFO[10] : Total number of affiliations with party.HSS: 0\n",
      "WARN[10] : parliamentaryGroup-role organisation without affiliation: #party.HSS\n",
      "INFO[10] : Total number of affiliations with party.GDS: 0\n",
      "WARN[10] : parliamentaryGroup-role organisation without affiliation: #party.GDS\n",
      "INFO[10] : Total number of affiliations with party.BSP: 0\n",
      "WARN[10] : parliamentaryGroup-role organisation without affiliation: #party.BSP\n",
      "WARN[13] : Event #PS.3 (2000-12-29T00:00:00 ...  2002-10-01T23:59:59) corresponding to affiliation don't cover affiliation date 2018-12-06T00:00:00\n",
      "WARN[13] : Event #PS.3 (2000-12-29T00:00:00 ...  2002-10-01T23:59:59) corresponding to affiliation don't cover affiliation date 2022-07-27T23:59:59\n",
      "WARN[13] : Event #PS.5 (2006-11-20T00:00:00 ...  2010-09-01T23:59:59) corresponding to affiliation don't cover affiliation date 2002-12-03T00:00:00\n",
      "WARN[13] : Event #PS.5 (2006-11-20T00:00:00 ...  2010-09-01T23:59:59) corresponding to affiliation don't cover affiliation date 2006-09-20T23:59:59\n",
      "WARN[13] : Event #PS.3 (2000-12-29T00:00:00 ...  2002-10-01T23:59:59) corresponding to affiliation don't cover affiliation date 1998-11-26T00:00:00\n",
      "WARN[13] : Event #PS.3 (2000-12-29T00:00:00 ...  2002-10-01T23:59:59) corresponding to affiliation don't cover affiliation date 2000-10-23T23:59:59\n",
      "WARN[13] : Event #PS.7 (2014-12-09T00:00:00 ...  2018-09-17T23:59:59) corresponding to affiliation don't cover affiliation date 2010-11-30T00:00:00\n",
      "WARN[13] : Event #PS.7 (2014-12-09T00:00:00 ...  2018-09-17T23:59:59) corresponding to affiliation don't cover affiliation date 2014-09-25T23:59:59\n",
      "WARN[13] : Event #PS.7 (2014-12-09T00:00:00 ...  2018-09-17T23:59:59) corresponding to affiliation don't cover affiliation date 2010-11-30T00:00:00\n",
      "WARN[13] : Event #PS.7 (2014-12-09T00:00:00 ...  2018-09-17T23:59:59) corresponding to affiliation don't cover affiliation date 2014-09-25T23:59:59\n",
      "WARN[13] : Event #PS.8 (2018-12-06T00:00:00 ...  2022-07-27T23:59:59) corresponding to affiliation don't cover affiliation date 2014-12-09T00:00:00\n",
      "WARN[13] : Event #PS.8 (2018-12-06T00:00:00 ...  2022-07-27T23:59:59) corresponding to affiliation don't cover affiliation date 2018-09-17T23:59:59\n",
      "INFO[12] : Total number of organizations with parliament role: 1\n",
      "INFO[12] : Total number of organizations with government role: 1\n",
      "INFO[12] : Total number of organizations with parliamentaryGroup role: 43\n",
      "INFO[??] : Total number of affiliations 793\n",
      "INFO[??] : Total number of NO-role affiliations 0\n",
      "INFO[??] : Total number of 'member' role affiliations 793\n",
      "INFO: Link checking for ParlaMint-BA.xml\n",
      "ERROR ParlaMint-BA: ERROR: Can't find local id for meeting/@ana=\"#parla.term #PS.9\"\n",
      "ERROR ParlaMint-BA: ERROR: Can't find local id for meeting/@ana=\"#parla.term #PS.10\"\n",
      "ERROR ParlaMint-BA: ERROR: Can't find local id for meeting/@ana=\"#parla.term #PS.11\"\n",
      "ERROR ParlaMint-BA: ERROR: Can't find local id for meeting/@ana=\"#parla.term #PS.12\"\n",
      "INFO: Validating component TEI file /home/rupnik/parlamint/ParlaMint/Data/ParlaMint-BA/ParlaMint-BA_T02S01.xml\n",
      "INFO: XML validation for ParlaMint-BA_T02S01.xml\n",
      "/home/rupnik/parlamint/ParlaMint/Data/ParlaMint-BA/ParlaMint-BA_T02S01.xml:99:15: error: element \"setting\" incomplete; missing required element \"date\"\n",
      "INFO: Content validaton for ParlaMint-BA_T02S01.xml\n",
      "INFO: Link checking for ParlaMint-BA_T02S01.xml\n",
      "INFO: Validating component TEI file /home/rupnik/parlamint/ParlaMint/Data/ParlaMint-BA/ParlaMint-BA_T02S02.xml\n",
      "INFO: XML validation for ParlaMint-BA_T02S02.xml\n",
      "/home/rupnik/parlamint/ParlaMint/Data/ParlaMint-BA/ParlaMint-BA_T02S02.xml:99:15: error: element \"setting\" incomplete; missing required element \"date\"\n",
      "INFO: Content validaton for ParlaMint-BA_T02S02.xml\n",
      "INFO: Link checking for ParlaMint-BA_T02S02.xml\n",
      "INFO: Validating component TEI file /home/rupnik/parlamint/ParlaMint/Data/ParlaMint-BA/ParlaMint-BA_T02S03.xml\n",
      "INFO: XML validation for ParlaMint-BA_T02S03.xml\n",
      "/home/rupnik/parlamint/ParlaMint/Data/ParlaMint-BA/ParlaMint-BA_T02S03.xml:99:15: error: element \"setting\" incomplete; missing required element \"date\"\n",
      "INFO: Content validaton for ParlaMint-BA_T02S03.xml\n",
      "INFO: Link checking for ParlaMint-BA_T02S03.xml\n"
     ]
    }
   ],
   "source": [
    "%%bash\n",
    "cd /home/rupnik/parlamint/ParlaMint\n",
    "make validate-parlamint-BA"
   ]
  },
  {
   "cell_type": "markdown",
   "metadata": {},
   "source": [
    "# Notes on the output:\n"
   ]
  },
  {
   "cell_type": "code",
   "execution_count": null,
   "metadata": {},
   "outputs": [],
   "source": [
    "\n"
   ]
  },
  {
   "cell_type": "markdown",
   "metadata": {},
   "source": [
    "# Adding missing persons:\n"
   ]
  },
  {
   "cell_type": "code",
   "execution_count": 61,
   "metadata": {},
   "outputs": [],
   "source": [
    "# # f = \"005_output.txt\"\n",
    "# # with open(f) as f:\n",
    "# #     content = f.readlines()\n",
    "\n",
    "# # pattern = '''{begining}find local id for u/@who=\"#{name}\"\\n'''\n",
    "# # from parse import compile\n",
    "# # p = compile(pattern)\n",
    "\n",
    "# # missing = set()\n",
    "# # for line in content:\n",
    "# #     result = p.parse(line)\n",
    "# #     try:\n",
    "# #         missing.add(result[\"name\"])\n",
    "# #     except:\n",
    "# #         continue\n",
    "    \n",
    "# with open(\"005_missings.txt\", \"r\") as f:\n",
    "#     content = f.read()\n",
    "# from ast import literal_eval\n",
    "# missings = literal_eval(content)\n",
    "\n",
    "\n",
    "# def split_on_capitals(s:str):\n",
    "#     splits = []\n",
    "#     for i, c in enumerate(s):\n",
    "#         if i == 0:\n",
    "#             pass\n",
    "#         if c == c.capitalize():\n",
    "#             splits.append(i)\n",
    "#     splits.append(-1)\n",
    "#     return [s[start:stop] if stop != splits[-1] else s[start:] for start, stop in zip(splits, splits[1:])]\n",
    "\n",
    "# length = dict()\n",
    "# segments = dict()\n",
    "# for i in missings:\n",
    "#     length[i] = len(split_on_capitals(i))\n",
    "#     segments[i] = split_on_capitals(i)\n",
    "#     if length[i] != 2:\n",
    "#         print(i)\n",
    "        \n",
    "        \n",
    "# def generate_person(reference_name, lastname, firstname):\n",
    "#     person = Element(\"person\")\n",
    "#     person.set(\"xml:id\", reference_name)\n",
    "#     persName = SubElement(person, \"persName\")\n",
    "    \n",
    "#     buf = SubElement(persName, \"surname\")\n",
    "#     buf.text = lastname\n",
    "    \n",
    "#     buf = SubElement(persName, \"forename\")\n",
    "#     buf.text = firstname\n",
    "\n",
    "#     return person\n",
    "\n",
    "# pretty_print(generate_person(\"PelivanJure\", \"Pelivan\", \"Jure\"))\n",
    "\n",
    "\n",
    "# additional_persons = list()\n",
    "# to_delete = list()\n",
    "# for key in missings:\n",
    "#     l = length.get(key)\n",
    "#     s = segments.get(key)\n",
    "#     if l == 2:\n",
    "#         additional_persons.append(generate_person(key,s[1],s[0]))\n",
    "#     else:\n",
    "#         print(f\"The key is: {key}\", flush=True)\n",
    "#         lastname = input(\"Lastname:\")\n",
    "#         if lastname == \"\":\n",
    "#             to_delete.append(key)\n",
    "#             continue\n",
    "#         firstname = input(\"Firstname\")\n",
    "#         if firstname == \"\":\n",
    "#             continue\n",
    "#         additional_persons.append(generate_person(key,lastname, firstname))\n",
    "        \n",
    "# import pickle\n",
    "# with open(\"005_additional_persons.pickle\", \"wb\") as f:\n",
    "#     pickle.dump(additional_persons, f)\n",
    "# with open(\"005_ignore_keys.pickle\", \"wb\") as f:\n",
    "#     pickle.dump(to_delete, f)\n",
    "    \n",
    "\n",
    "# with open(\"005_additional_persons.pickle\", \"rb\") as f:\n",
    "#     additional_persons_unpickled = pickle.load(f)\n",
    "# with open(\"005_ignore_keys.pickle\", \"rb\") as f:\n",
    "#     keys_to_delete = pickle.load(f)"
   ]
  }
 ],
 "metadata": {
  "kernelspec": {
   "display_name": "Python 3.9.7 ('base')",
   "language": "python",
   "name": "python3"
  },
  "language_info": {
   "codemirror_mode": {
    "name": "ipython",
    "version": 3
   },
   "file_extension": ".py",
   "mimetype": "text/x-python",
   "name": "python",
   "nbconvert_exporter": "python",
   "pygments_lexer": "ipython3",
   "version": "3.9.7"
  },
  "orig_nbformat": 4,
  "vscode": {
   "interpreter": {
    "hash": "2d30c88cb7145d662123f76f8c64609bc18e52940d2861adec2407b68f2e334f"
   }
  }
 },
 "nbformat": 4,
 "nbformat_minor": 2
}
